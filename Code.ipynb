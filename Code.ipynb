{
 "cells": [
  {
   "cell_type": "code",
   "execution_count": 48,
   "metadata": {},
   "outputs": [
    {
     "name": "stdout",
     "output_type": "stream",
     "text": [
      "Share of X in A = 0.4304173333333333\n",
      "Share of Y in B = 0.3681143333333333\n",
      "E(x) in A = 2.0002161732097745\n",
      "E(y) in B = 2.00001726069677\n"
     ]
    }
   ],
   "source": [
    "import numpy as np\n",
    "\n",
    "# Fixed random seed for reproducibility\n",
    "np.random.seed(12345)\n",
    "\n",
    "# Number of samples\n",
    "N = 3_000_000\n",
    "\n",
    "# Means, stdevs\n",
    "mu_x, mu_y = 1.2, 1.1\n",
    "sigma_x, sigma_y = 1.0, 1.0\n",
    "\n",
    "# Proposed solution\n",
    "x_star = 1.0028\n",
    "y_star = 1.0426\n",
    "c_0 = 2\n",
    "\n",
    "# Slope of line D that passes through (x_star, y_star) and (2,2)\n",
    "#   slope = (2 - y_star)/(2 - x_star)\n",
    "slope_D = (c_0 - y_star) / (c_0 - x_star)\n",
    "\n",
    "def yD_of_x(x):\n",
    "    return y_star + slope_D * (x - x_star)\n",
    "def xD_of_y(y):\n",
    "    # slope = dy/dx => dx/dy = 1/slope\n",
    "    return x_star + (1./slope_D) * (y - y_star)\n",
    "\n",
    "# 1) Generate random samples from the independent normals\n",
    "X = np.random.normal(mu_x, sigma_x, N)\n",
    "Y = np.random.normal(mu_y, sigma_y, N)\n",
    "\n",
    "# 2) Define region B: \n",
    "#    \"above line F\" => y >= y_star if x <= x_star,\n",
    "#    \"above line D\" => y >= yD_of_x(x) if x >= x_star\n",
    "#    Combined logically:\n",
    "left_mask_B  = (X <= x_star) & (Y >= y_star)\n",
    "right_mask_B = (X >= x_star) & (Y >= yD_of_x(X))\n",
    "B_mask = left_mask_B | right_mask_B\n",
    "\n",
    "# 3) Define region A:\n",
    "#    \"right of line E\" => x >= x_star if y <= y_star,\n",
    "#    \"right of line D\" => x >= xD_of_y(y) if y >= y_star\n",
    "#    Combined logically:\n",
    "down_mask_A  = (Y <= y_star) & (X >= x_star)\n",
    "up_mask_A    = (Y >= y_star) & (X >= xD_of_y(Y))\n",
    "A_mask = down_mask_A | up_mask_A\n",
    "\n",
    "# 4) Estimate E[Y | B]\n",
    "Y_in_B = Y[B_mask]\n",
    "meanY_in_B = np.mean(Y_in_B) if len(Y_in_B) > 0 else float('nan')\n",
    "\n",
    "# 5) Estimate E[X | A]\n",
    "X_in_A = X[A_mask]\n",
    "meanX_in_A = np.mean(X_in_A) if len(X_in_A) > 0 else float('nan')\n",
    "\n",
    "print(\"Share of X in A =\", len(X_in_A)/N)\n",
    "print(\"Share of Y in B =\", len(Y_in_B)/N)\n",
    "\n",
    "print(\"E(x) in A =\", meanX_in_A)\n",
    "\n",
    "\n",
    "print(\"E(y) in B =\", meanY_in_B)\n",
    "\n"
   ]
  },
  {
   "cell_type": "code",
   "execution_count": null,
   "metadata": {},
   "outputs": [],
   "source": []
  }
 ],
 "metadata": {
  "kernelspec": {
   "display_name": "Python 3",
   "language": "python",
   "name": "python3"
  },
  "language_info": {
   "codemirror_mode": {
    "name": "ipython",
    "version": 3
   },
   "file_extension": ".py",
   "mimetype": "text/x-python",
   "name": "python",
   "nbconvert_exporter": "python",
   "pygments_lexer": "ipython3",
   "version": "3.12.1"
  }
 },
 "nbformat": 4,
 "nbformat_minor": 2
}
