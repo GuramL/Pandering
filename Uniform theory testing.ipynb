{
 "cells": [
  {
   "cell_type": "code",
   "execution_count": 1,
   "metadata": {},
   "outputs": [],
   "source": [
    "\n",
    "import numpy as np\n",
    "\n",
    "# Number of samples\n",
    "N = 3_000_000\n",
    "\n",
    "# 1) Generate random samples from the uniform distributions\n",
    "x_samples = np.random.uniform(0,1.1,N)\n",
    "y_samples = np.random.uniform(0,1,N)"
   ]
  },
  {
   "cell_type": "code",
   "execution_count": 7,
   "metadata": {},
   "outputs": [
    {
     "name": "stdout",
     "output_type": "stream",
     "text": [
      "Share of X in A = 0.17708366666666667\n",
      "Share of Y in B = 0.086344\n",
      "Total share covered =  0.26342766666666667\n",
      "x* = 0.9\n",
      "y* = 0.9\n",
      "E(x) in A = 1.0016517629017554\n",
      "E(y) in B = 0.9508802254520031\n",
      "ratio of measures  2.0509087680286604\n"
     ]
    }
   ],
   "source": [
    "#now pick x*=y*, split the set the same way and check the ratio of measures\n",
    "\n",
    "x_star_2 = 0.9\n",
    "y_star_2 = 0.9\n",
    "\n",
    "\n",
    "slope_D_2 = 1\n",
    "def yD_of_x(x):\n",
    "        return y_star_2 + slope_D_2 * (x - x_star_2)\n",
    "    \n",
    "def xD_of_y(y):\n",
    "    return x_star_2 + (1./slope_D_2) * (y - y_star_2)\n",
    "    \n",
    "# Define region B\n",
    "left_mask_B_2  = (x_samples <= x_star_2) & (y_samples >= y_star_2)\n",
    "right_mask_B_2 = (x_samples >= x_star_2) & (y_samples >= yD_of_x(x_samples))\n",
    "B_mask_2 = left_mask_B_2 | right_mask_B_2\n",
    "    \n",
    "# Define region A\n",
    "down_mask_A_2  = (y_samples <= y_star_2) & (x_samples >= x_star_2)\n",
    "up_mask_A_2    = (y_samples >= y_star_2) & (x_samples >= xD_of_y(y_samples))\n",
    "A_mask_2 = down_mask_A_2 | up_mask_A_2\n",
    "    \n",
    "# Estimate E[Y | B]\n",
    "Y_in_B_2 = y_samples[B_mask_2]\n",
    "meanY_in_B_2 = np.mean(Y_in_B_2) if len(Y_in_B_2) > 0 else float('nan')\n",
    "    \n",
    "# Estimate E[X | A]\n",
    "X_in_A_2 = x_samples[A_mask_2]\n",
    "meanX_in_A_2 = np.mean(X_in_A_2) if len(X_in_A_2) > 0 else float('nan')\n",
    "\n",
    "\n",
    "\n",
    "print(\"Share of X in A =\", len(X_in_A_2)/N)\n",
    "print(\"Share of Y in B =\", len(Y_in_B_2)/N)\n",
    "print(\"Total share covered = \", (len(X_in_A_2) + len(Y_in_B_2))/N)\n",
    "print(\"x* =\", x_star_2)\n",
    "print(\"y* =\", y_star_2)\n",
    "print(\"E(x) in A =\", meanX_in_A_2)\n",
    "print(\"E(y) in B =\", meanY_in_B_2)\n",
    "\n",
    "print(\"ratio of measures \", (len(X_in_A_2)/N)/(len(Y_in_B_2)/N))\n"
   ]
  }
 ],
 "metadata": {
  "kernelspec": {
   "display_name": "Python 3",
   "language": "python",
   "name": "python3"
  },
  "language_info": {
   "codemirror_mode": {
    "name": "ipython",
    "version": 3
   },
   "file_extension": ".py",
   "mimetype": "text/x-python",
   "name": "python",
   "nbconvert_exporter": "python",
   "pygments_lexer": "ipython3",
   "version": "3.12.1"
  }
 },
 "nbformat": 4,
 "nbformat_minor": 2
}
