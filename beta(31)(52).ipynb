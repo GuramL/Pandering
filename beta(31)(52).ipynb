{
 "cells": [
  {
   "cell_type": "markdown",
   "metadata": {},
   "source": [
    "# **f(x;y)=6$x^2$y**"
   ]
  },
  {
   "cell_type": "code",
   "execution_count": 1,
   "metadata": {},
   "outputs": [
    {
     "name": "stdout",
     "output_type": "stream",
     "text": [
      "First 5 observations:\n",
      " [[0.91112275 0.74433293]\n",
      " [0.79579853 0.82138721]\n",
      " [0.72688034 0.64052559]\n",
      " [0.49232213 0.75311577]\n",
      " [0.69433042 0.45732151]]\n"
     ]
    }
   ],
   "source": [
    "import numpy as np\n",
    "import matplotlib.pyplot as plt\n",
    "\n",
    "# Set the seed\n",
    "np.random.seed(12345)\n",
    "\n",
    "\n",
    "# Set the number of observations\n",
    "N = 3000000\n",
    "\n",
    "# Generate samples:\n",
    "# X ~ Beta(3, 1) has density f(x)=3*x^2 on [0,1]\n",
    "# Y ~ Beta(2, 1) has density f(y)=2*y on [0,1]\n",
    "x_samples = np.random.beta(3, 1, N)\n",
    "y_samples = np.random.beta(5, 2, N)\n",
    "\n",
    "# Combine the samples into a two-dimensional array\n",
    "observations = np.column_stack((x_samples, y_samples))\n",
    "\n",
    "# Print the first 5 observations to check\n",
    "print(\"First 5 observations:\\n\", observations[:5])\n",
    "\n"
   ]
  },
  {
   "cell_type": "code",
   "execution_count": 2,
   "metadata": {},
   "outputs": [
    {
     "name": "stdout",
     "output_type": "stream",
     "text": [
      "ITERATIONS ON 6x^2y\n",
      "\n",
      "Converged after 516 iterations\n",
      "Share of X in A = 0.47607066666666664\n",
      "Share of Y in B = 0.20213833333333334\n",
      "x* = 0.7681247808599411\n",
      "y* = 0.8218144487643474\n",
      "E(x) in A = 0.8999991301040546\n",
      "E(y) in B = 0.8999992958347167\n"
     ]
    }
   ],
   "source": [
    "# Initialize x_star and y_star\n",
    "x_star_1 = 0.75\n",
    "y_star_1 = 0.75\n",
    "\n",
    "# Define the target mean value\n",
    "target_mean_1 = 0.9\n",
    "\n",
    "# Define a tolerance for convergence\n",
    "tolerance_1 = 1e-6\n",
    "\n",
    "# Define a maximum number of iterations to prevent infinite loops\n",
    "max_iterations_1 = 1000\n",
    "\n",
    "# Function to update x_star and y_star\n",
    "def update_stars(x_star, y_star, meanX_in_A, meanY_in_B, learning_rate=0.05):\n",
    "    x_star += learning_rate * (target_mean_1 - meanX_in_A)\n",
    "    y_star += learning_rate * (target_mean_1 - meanY_in_B)\n",
    "    return x_star, y_star\n",
    "\n",
    "# Iteratively update x_star and y_star until convergence\n",
    "for iteration_1 in range(max_iterations_1):\n",
    "    # Update slope_D based on current x_star and y_star\n",
    "    slope_D_1 = (target_mean_1 - y_star_1) / (target_mean_1 - x_star_1)\n",
    "    \n",
    "    def yD_of_x(x):\n",
    "        return y_star_1 + slope_D_1 * (x - x_star_1)\n",
    "    \n",
    "    def xD_of_y(y):\n",
    "        return x_star_1 + (1./slope_D_1) * (y - y_star_1)\n",
    "    \n",
    "    # Define region B\n",
    "    left_mask_B_1  = (x_samples <= x_star_1) & (y_samples >= y_star_1)\n",
    "    right_mask_B_1 = (x_samples >= x_star_1) & (y_samples >= yD_of_x(x_samples))\n",
    "    B_mask_1 = left_mask_B_1 | right_mask_B_1\n",
    "    \n",
    "    # Define region A\n",
    "    down_mask_A_1  = (y_samples <= y_star_1) & (x_samples >= x_star_1)\n",
    "    up_mask_A_1    = (y_samples >= y_star_1) & (x_samples >= xD_of_y(y_samples))\n",
    "    A_mask_1 = down_mask_A_1 | up_mask_A_1\n",
    "    \n",
    "    # Estimate E[Y | B]\n",
    "    Y_in_B_1 = y_samples[B_mask_1]\n",
    "    meanY_in_B_1 = np.mean(Y_in_B_1) if len(Y_in_B_1) > 0 else float('nan')\n",
    "    \n",
    "    # Estimate E[X | A]\n",
    "    X_in_A_1 = x_samples[A_mask_1]\n",
    "    meanX_in_A_1 = np.mean(X_in_A_1) if len(X_in_A_1) > 0 else float('nan')\n",
    "    \n",
    "    # Check for convergence\n",
    "    if abs(meanY_in_B_1 - target_mean_1) < tolerance_1 and abs(meanX_in_A_1 - target_mean_1) < tolerance_1:\n",
    "        break\n",
    "    \n",
    "    # Update x_star and y_star\n",
    "    x_star_1, y_star_1 = update_stars(x_star_1, y_star_1, meanX_in_A_1, meanY_in_B_1)\n",
    "\n",
    "print(\"ITERATIONS ON 6x^2y\")\n",
    "print(\"\")\n",
    "print(\"Converged after\", iteration_1 + 1, \"iterations\")\n",
    "print(\"Share of X in A =\", len(X_in_A_1)/N)\n",
    "print(\"Share of Y in B =\", len(Y_in_B_1)/N)\n",
    "print(\"x* =\", x_star_1)\n",
    "print(\"y* =\", y_star_1)\n",
    "print(\"E(x) in A =\", meanX_in_A_1)\n",
    "print(\"E(y) in B =\", meanY_in_B_1)"
   ]
  }
 ],
 "metadata": {
  "kernelspec": {
   "display_name": "Python 3",
   "language": "python",
   "name": "python3"
  },
  "language_info": {
   "codemirror_mode": {
    "name": "ipython",
    "version": 3
   },
   "file_extension": ".py",
   "mimetype": "text/x-python",
   "name": "python",
   "nbconvert_exporter": "python",
   "pygments_lexer": "ipython3",
   "version": "3.12.1"
  }
 },
 "nbformat": 4,
 "nbformat_minor": 2
}
